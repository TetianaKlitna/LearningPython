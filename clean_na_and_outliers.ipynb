{
 "cells": [
  {
   "cell_type": "code",
   "execution_count": null,
   "id": "371c2003",
   "metadata": {},
   "outputs": [],
   "source": [
    "def clean_data(df):\n",
    "\n",
    "    df = df.dropna() \n",
    "\n",
    "    out_list = ['median_house_value', 'median_income', 'housing_median_age']\n",
    "\n",
    "    quantiles_df = (df.quantile([0.25,0.75]))\n",
    "\n",
    "    for out in out_list: \n",
    "\n",
    "        Q1 = quantiles_df[out][0.25]\n",
    "        Q3 = quantiles_df[out][0.75]\n",
    "\n",
    "        iqr = Q3 - Q1\n",
    "\n",
    "        lower_bound = (Q1 - (iqr * 1.5)) \n",
    "        upper_bound = (Q3 + (iqr * 1.5)) \n",
    "\n",
    "        col = df[out]\n",
    "\n",
    "        col[(col < lower_bound)] = lower_bound\n",
    "\n",
    "        col[(col > upper_bound)] = upper_bound \n",
    "\n",
    "    return df\n",
    "\n",
    "df = pd.read_csv('housing.csv')\n",
    "\n",
    "df_res = clean_data(df.copy())\n",
    "\n",
    "print(df_res)"
   ]
  }
 ],
 "metadata": {
  "kernelspec": {
   "display_name": "Python 3 (ipykernel)",
   "language": "python",
   "name": "python3"
  },
  "language_info": {
   "codemirror_mode": {
    "name": "ipython",
    "version": 3
   },
   "file_extension": ".py",
   "mimetype": "text/x-python",
   "name": "python",
   "nbconvert_exporter": "python",
   "pygments_lexer": "ipython3",
   "version": "3.11.5"
  }
 },
 "nbformat": 4,
 "nbformat_minor": 5
}
